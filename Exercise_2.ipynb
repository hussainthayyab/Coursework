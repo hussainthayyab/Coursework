{
  "nbformat": 4,
  "nbformat_minor": 0,
  "metadata": {
    "kernelspec": {
      "display_name": "Python 3",
      "language": "python",
      "name": "python3"
    },
    "language_info": {
      "codemirror_mode": {
        "name": "ipython",
        "version": 3
      },
      "file_extension": ".py",
      "mimetype": "text/x-python",
      "name": "python",
      "nbconvert_exporter": "python",
      "pygments_lexer": "ipython3",
      "version": "3.6.5"
    },
    "colab": {
      "name": "Exercise_2.ipynb",
      "provenance": []
    }
  },
  "cells": [
    {
      "cell_type": "markdown",
      "metadata": {
        "id": "iQJfd6Fh_MKS"
      },
      "source": [
        "## Exercise 2\n",
        "\n",
        "A satellite has a circular orbit around the Earth with a period $T$. \n",
        "  1. [2] Prove that its altitude $h$ above the Earth‘s surface is ($M$ is Earth’s mass and $R$ its radius):\n",
        "$$h={\\left ( \\frac{GMT^2}{4\\pi^2} \\right )}^{1/3} - R$$\n",
        "(Write the proof in [markdown](https://colab.research.google.com/notebooks/markdown_guide.ipynb) in the notebook, no need to use python).\n",
        "  2. [2] Write a function to evaluate $h$.\n",
        "  3. [2] Write a program that requests user input of $T$ and then prints out the altitude in kilometre\n",
        "  4. [2] Hence find the altitudes of satellites that orbit the Earth once a day (‘geosyn-chronous’ orbit), once every 90 minutes, and once every 45 minutes. What do you conclude from the last of these calculations?\n"
      ]
    },
    {
      "cell_type": "markdown",
      "metadata": {
        "id": "pyHLzeBBRUUa"
      },
      "source": [
        ""
      ]
    },
    {
      "cell_type": "markdown",
      "metadata": {
        "id": "8BObAf89a5m7"
      },
      "source": [
        "Gravity causes centripetal force Fg = Ms*(V**2/r)\n",
        "\n",
        "G*M(earth)*M(satellite)/r**2 = M(satellite)*(v**2/r)\n",
        "\n",
        "'''equation simplified'''\n",
        "\n",
        "r*v**2 = G*M(Earth)\n",
        "\n",
        "orbital speed v = ((2*pi*r)/T)\n",
        "\n",
        "'''sub into equation above'''\n",
        "\n",
        "r*((2*pi*r)/T)**2 = G*M(Earth)\n",
        "\n",
        "r***3 = (G*M(Earth)*T**2)/(4*pi**2)\n",
        "\n",
        "r = ((G*M(Earth)*T**2)**(1/3)/(4*pi**2))\n",
        "\n",
        "r = R(Earth) + h\n",
        "\n",
        "h = r - R(Earth)\n",
        "\n",
        "h = (G*M(Earth)*T**2)**(1/3)/(4*pi**2)) - R\n",
        "\n",
        "---\n",
        "\n"
      ]
    },
    {
      "cell_type": "code",
      "metadata": {
        "id": "A9MER4ZTXbnz",
        "outputId": "91bb8455-1bd5-421d-8dc1-b0f2dee5c2c8",
        "colab": {
          "base_uri": "https://localhost:8080/",
          "height": 34
        }
      },
      "source": [
        "%%writefile height.py\n",
        "import numpy as np\n",
        "def h(T):\n",
        "  ''' I have made the value T equal to 86400 seconds/24 hours'''\n",
        "  G=9.81\n",
        "  M=5.972*10**24\n",
        "  R=6371*10**3\n",
        "  \n",
        "  return (G*M*T**2)**(1/3)/(4*np.pi**2) - R\n"
      ],
      "execution_count": 1,
      "outputs": [
        {
          "output_type": "stream",
          "text": [
            "Overwriting height.py\n"
          ],
          "name": "stdout"
        }
      ]
    },
    {
      "cell_type": "code",
      "metadata": {
        "id": "EFwFF9vrcguE",
        "outputId": "ffd417dc-fcc7-4630-beb1-cdc10e312192",
        "colab": {
          "base_uri": "https://localhost:8080/",
          "height": 51
        }
      },
      "source": [
        "import height as ht\n",
        "print('T', end='')\n",
        "T = input('How long does the satellite take to orbit earth in seconds');\n",
        "T=float(T)\n",
        "print('T/seconds:', T, 'Height /km:', ht.h(T)) "
      ],
      "execution_count": 2,
      "outputs": [
        {
          "output_type": "stream",
          "text": [
            "THow long does the satellite take to orbit earth in seconds30\n",
            "T/seconds: 30.0 Height /km: 88613054.04579267\n"
          ],
          "name": "stdout"
        }
      ]
    },
    {
      "cell_type": "code",
      "metadata": {
        "id": "Z-KtxxNfxG-R",
        "outputId": "e239a3d0-f306-4919-cb6a-fb7cb63cace2",
        "colab": {
          "base_uri": "https://localhost:8080/",
          "height": 34
        }
      },
      "source": [
        "''' height of satellite that orbits earth once a day'''\n",
        "T = 86400\n",
        "T=float(T)\n",
        "print('T/seconds:', T, 'Height /km:', ht.h(T))"
      ],
      "execution_count": 3,
      "outputs": [
        {
          "output_type": "stream",
          "text": [
            "T/seconds: 86400.0 Height /km: 19220665927.60199\n"
          ],
          "name": "stdout"
        }
      ]
    },
    {
      "cell_type": "code",
      "metadata": {
        "id": "Sda3s7thxZ7p",
        "outputId": "d35cd0da-d2b3-4e2f-e3d0-c9b94a8cc875",
        "colab": {
          "base_uri": "https://localhost:8080/",
          "height": 34
        }
      },
      "source": [
        "''' height of satellite that orbits earth every 90 ins'''\n",
        "T = 5400\n",
        "T=float(T)\n",
        "print('T/seconds:', T, 'Height /km:', ht.h(T))"
      ],
      "execution_count": 4,
      "outputs": [
        {
          "output_type": "stream",
          "text": [
            "T/seconds: 5400.0 Height /km: 3021697569.0239744\n"
          ],
          "name": "stdout"
        }
      ]
    },
    {
      "cell_type": "code",
      "metadata": {
        "id": "hJh9dV59xich",
        "outputId": "f26dd4fe-1a10-4c33-ce58-dc55b1ec2b31",
        "colab": {
          "base_uri": "https://localhost:8080/",
          "height": 34
        }
      },
      "source": [
        "''' height of satellite that orbits earth every 90 ins'''\n",
        "T = 2700\n",
        "T=float(T)\n",
        "print('T/seconds:', T, 'Height /km:', ht.h(T))"
      ],
      "execution_count": 5,
      "outputs": [
        {
          "output_type": "stream",
          "text": [
            "T/seconds: 2700.0 Height /km: 1901192665.3191762\n"
          ],
          "name": "stdout"
        }
      ]
    },
    {
      "cell_type": "code",
      "metadata": {
        "id": "-zKCkPHrxxS8"
      },
      "source": [
        "print('the shorter the orbital period the lower the height of the satellite abovbe the earths surface')"
      ],
      "execution_count": null,
      "outputs": []
    }
  ]
}