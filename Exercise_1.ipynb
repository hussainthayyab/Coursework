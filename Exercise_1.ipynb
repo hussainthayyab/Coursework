{
  "nbformat": 4,
  "nbformat_minor": 0,
  "metadata": {
    "kernelspec": {
      "display_name": "Python 3",
      "language": "python",
      "name": "python3"
    },
    "language_info": {
      "codemirror_mode": {
        "name": "ipython",
        "version": 3
      },
      "file_extension": ".py",
      "mimetype": "text/x-python",
      "name": "python",
      "nbconvert_exporter": "python",
      "pygments_lexer": "ipython3",
      "version": "3.6.5"
    },
    "colab": {
      "name": "Exercise_1.ipynb",
      "provenance": []
    }
  },
  "cells": [
    {
      "cell_type": "markdown",
      "metadata": {
        "id": "GDnBQiV4VZ6y"
      },
      "source": [
        "## Exercise 1\n",
        "\n",
        "[4] Define a function `func1(time,amplitude,frequency,phase)` which returns a sine wave (as a function of time) of chosen amplitude, frequency and phase. Test it out with different amplitude, frequency and phase values by plotting suitable graphs. Set the default values for ampliture, frequency and phase to be 1, 1 and 0, respectively."
      ]
    },
    {
      "cell_type": "markdown",
      "metadata": {
        "id": "kTV8iufTVZ6z"
      },
      "source": [
        "This first cell below provides a checking step to help you work through the problem. Don't edit it, and instead follow the [instructions](https://classroom.github.com/help/reviewing-auto-graded-work-students) to look at the results."
      ]
    },
    {
      "cell_type": "code",
      "metadata": {
        "id": "KJ2eKUtqVZ60",
        "outputId": "762886d3-4a75-4323-d51f-419b5fac1a65",
        "colab": {
          "base_uri": "https://localhost:8080/",
          "height": 34
        }
      },
      "source": [
        "\"\"\"\n",
        "Testing the function with a zero time input:\n",
        ">>> func1(0.,amplitude=5.,frequency=0.1,phase=0.)\n",
        "0.0\n",
        "Testing the default values:\n",
        ">>> func1(0.25)\n",
        "1.0\n",
        "Testing with an array:\n",
        ">>> from numpy import array\n",
        ">>> func1(array([0.,0.1,0.2]))\n",
        "array([0.        , 0.58778525, 0.95105652])\n",
        "\"\"\"\n",
        "print()"
      ],
      "execution_count": 28,
      "outputs": [
        {
          "output_type": "stream",
          "text": [
            "\n"
          ],
          "name": "stdout"
        }
      ]
    },
    {
      "cell_type": "code",
      "metadata": {
        "id": "o3lDG9JCVZ64",
        "outputId": "5a1bc755-ff22-4ce8-a2f4-d7f0834f6a5f",
        "colab": {
          "base_uri": "https://localhost:8080/",
          "height": 300
        }
      },
      "source": [
        "import numpy as np\n",
        "import matplotlib.pyplot as plt\n",
        "def func1(time, amplitude=1 ,frequency=1 ,phase=0):\n",
        "  ''' defines the function and gives the initial values'''\n",
        "\n",
        "  return amplitude*np.sin(2*np.pi*frequency*time+phase)\n",
        "  '''returns sine wave of chosen amplitude, frequency and phase'''\n",
        "\n",
        "x = np.linspace(0,1,50)\n",
        "y = func1(x)\n",
        "'''plotting func1'''\n",
        "plt.plot(x,y)\n",
        "plt.grid()\n",
        "plt.xlabel('time')\n",
        "plt.ylim(-1,1)\n",
        "plt.xlim(0,5)\n",
        "\n",
        "\n",
        "\n",
        " \n",
        "\n"
      ],
      "execution_count": 29,
      "outputs": [
        {
          "output_type": "execute_result",
          "data": {
            "text/plain": [
              "(0.0, 5.0)"
            ]
          },
          "metadata": {
            "tags": []
          },
          "execution_count": 29
        },
        {
          "output_type": "display_data",
          "data": {
            "image/png": "[encoded data removed]",
            "text/plain": [
              "<Figure size 432x288 with 1 Axes>"
            ]
          },
          "metadata": {
            "tags": [],
            "needs_background": "light"
          }
        }
      ]
    },
    {
      "cell_type": "code",
      "metadata": {
        "id": "APziuM309SXh",
        "outputId": "86abe098-2810-4ec6-a290-11406a28b846",
        "colab": {
          "base_uri": "https://localhost:8080/",
          "height": 300
        }
      },
      "source": [
        "'''copy and pasted code from above and changed the value of amplitude to see effects'''\n",
        "import numpy as np\n",
        "import matplotlib.pyplot as plt\n",
        "def func1(time, amplitude=0.5 ,frequency=1 ,phase=0):\n",
        "  ''' defines the function and gives the initial values'''\n",
        "\n",
        "  return amplitude*np.sin(2*np.pi*frequency*time+phase)\n",
        "  '''returns sine wave of chosen amplitude, frequency and phase'''\n",
        "\n",
        "x = np.linspace(0,1,50)\n",
        "y = func1(x)\n",
        "'''plotting func1'''\n",
        "plt.plot(x,y)\n",
        "plt.grid()\n",
        "plt.xlabel('time')\n",
        "plt.ylim(-1,1)\n",
        "plt.xlim(0,5)"
      ],
      "execution_count": 31,
      "outputs": [
        {
          "output_type": "execute_result",
          "data": {
            "text/plain": [
              "(0.0, 5.0)"
            ]
          },
          "metadata": {
            "tags": []
          },
          "execution_count": 31
        },
        {
          "output_type": "display_data",
          "data": {
            "image/png": "[encoded data removed]",
            "text/plain": [
              "<Figure size 432x288 with 1 Axes>"
            ]
          },
          "metadata": {
            "tags": [],
            "needs_background": "light"
          }
        }
      ]
    },
    {
      "cell_type": "code",
      "metadata": {
        "id": "C8_bfcNs9p1o",
        "outputId": "89bc1bee-efe2-4d61-f2a7-2d8dad4698a5",
        "colab": {
          "base_uri": "https://localhost:8080/",
          "height": 300
        }
      },
      "source": [
        "'''copy and pasted code from above and changed the value of frequency to see effects'''\n",
        "import numpy as np\n",
        "import matplotlib.pyplot as plt\n",
        "def func1(time, amplitude=1 ,frequency=2 ,phase=0):\n",
        "  ''' defines the function and gives the initial values'''\n",
        "\n",
        "  return amplitude*np.sin(2*np.pi*frequency*time+phase)\n",
        "  '''returns sine wave of chosen amplitude, frequency and phase'''\n",
        "\n",
        "x = np.linspace(0,1,50)\n",
        "y = func1(x)\n",
        "'''plotting func1'''\n",
        "plt.plot(x,y)\n",
        "plt.grid()\n",
        "plt.xlabel('time')\n",
        "plt.ylim(-1,1)\n",
        "plt.xlim(0,5)"
      ],
      "execution_count": 32,
      "outputs": [
        {
          "output_type": "execute_result",
          "data": {
            "text/plain": [
              "(0.0, 5.0)"
            ]
          },
          "metadata": {
            "tags": []
          },
          "execution_count": 32
        },
        {
          "output_type": "display_data",
          "data": {
            "image/png": "[encoded data removed]",
            "text/plain": [
              "<Figure size 432x288 with 1 Axes>"
            ]
          },
          "metadata": {
            "tags": [],
            "needs_background": "light"
          }
        }
      ]
    },
    {
      "cell_type": "code",
      "metadata": {
        "id": "kHEFuM6C93ub",
        "outputId": "bc7fe3c3-7a8e-4040-a977-387eee369106",
        "colab": {
          "base_uri": "https://localhost:8080/",
          "height": 300
        }
      },
      "source": [
        "'''copy and pasted code from above and changed the value of phase to see effects'''\n",
        "import numpy as np\n",
        "import matplotlib.pyplot as plt\n",
        "def func1(time, amplitude=1 ,frequency=1 ,phase=1):\n",
        "  ''' defines the function and gives the initial values'''\n",
        "\n",
        "  return amplitude*np.sin(2*np.pi*frequency*time+phase)\n",
        "  '''returns sine wave of chosen amplitude, frequency and phase'''\n",
        "\n",
        "x = np.linspace(0,1,50)\n",
        "y = func1(x)\n",
        "'''plotting func1'''\n",
        "plt.plot(x,y)\n",
        "plt.grid()\n",
        "plt.xlabel('time')\n",
        "plt.ylim(-1,1)\n",
        "plt.xlim(0,5)"
      ],
      "execution_count": 34,
      "outputs": [
        {
          "output_type": "execute_result",
          "data": {
            "text/plain": [
              "(0.0, 5.0)"
            ]
          },
          "metadata": {
            "tags": []
          },
          "execution_count": 34
        },
        {
          "output_type": "display_data",
          "data": {
            "image/png": "[encoded data removed]",
            "text/plain": [
              "<Figure size 432x288 with 1 Axes>"
            ]
          },
          "metadata": {
            "tags": [],
            "needs_background": "light"
          }
        }
      ]
    }
  ]
}