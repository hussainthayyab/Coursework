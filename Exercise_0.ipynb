{
  "nbformat": 4,
  "nbformat_minor": 0,
  "metadata": {
    "kernelspec": {
      "display_name": "Python 3",
      "language": "python",
      "name": "python3"
    },
    "language_info": {
      "codemirror_mode": {
        "name": "ipython",
        "version": 3
      },
      "file_extension": ".py",
      "mimetype": "text/x-python",
      "name": "python",
      "nbconvert_exporter": "python",
      "pygments_lexer": "ipython3",
      "version": "3.6.5"
    },
    "colab": {
      "name": "Exercise_0.ipynb",
      "provenance": []
    }
  },
  "cells": [
    {
      "cell_type": "markdown",
      "metadata": {
        "id": "BiyeJbjEBZDz"
      },
      "source": [
        "## Exercise 0\n",
        "\n",
        "[0] Write a function `convert(angle)` to convert angles in degrees to radians. Write another function `recenter(angle)` to wrap angles in radian into the $(-\\pi,\\pi]$ interval. Save those two functions into a file named `anglesutils.py`. \n",
        "\n",
        "A centrifuge's loading position at $t=0\\,\\text{s}$ is $45^\\circ$ degrees, and start accelerating at $\\alpha=2^{\\circ}\\,\\text{s}^{-2}$. So it's position in degrees is given as a function of time (in seconds) by:\n",
        "\n",
        "$$\n",
        "position(t)=45+\\frac{1}{2}\\,2\\,t^2\n",
        "$$\n",
        "\n",
        "Use the `anglesutils` module you just created to plot that function from $t=0\\,\\text{s}$ to $t=30\\,\\text{s}$ in radian in the $(-\\pi,\\pi]$ interval."
      ]
    },
    {
      "cell_type": "markdown",
      "metadata": {
        "id": "BIDsTofVBZD0"
      },
      "source": [
        "This first cell below provides a checking step to help you work through the problem. Don't edit it, and instead follow the [instructions](https://classroom.github.com/help/reviewing-auto-graded-work-students) to look at the results."
      ]
    },
    {
      "cell_type": "code",
      "metadata": {
        "id": "Rvr47DTNBZD1",
        "outputId": "dc45f2f0-adbb-4ab8-9d03-167f9a7df4b2",
        "colab": {
          "base_uri": "https://localhost:8080/",
          "height": 34
        }
      },
      "source": [
        "\"\"\"\n",
        "Tests for the anglesutils module.\n",
        ">>> import numpy as np\n",
        ">>> import anglesutils\n",
        "\n",
        "Testing the convert() function:\n",
        ">>> quarter_turn_in_rad=anglesutils.convert(90)\n",
        ">>> np.isclose(quarter_turn_in_rad,np.pi/2)\n",
        "True\n",
        "\n",
        "Testing the recenter() function:\n",
        ">>> np.isclose(np.pi/2,anglesutils.recenter(np.pi/2+56*np.pi))\n",
        "True\n",
        "\"\"\"\n",
        "print()"
      ],
      "execution_count": 1,
      "outputs": [
        {
          "output_type": "stream",
          "text": [
            "\n"
          ],
          "name": "stdout"
        }
      ]
    },
    {
      "cell_type": "code",
      "metadata": {
        "id": "eWsfExmOBZD5",
        "outputId": "895efe48-e268-45e3-9690-f586838f453b",
        "colab": {
          "base_uri": "https://localhost:8080/",
          "height": 34
        }
      },
      "source": [
        "%%writefile anglesutils.py\n",
        "import numpy as np\n",
        "\n",
        "def convert(angle):\n",
        "  return angle*np.pi/180\n",
        "\n",
        "def recenter(angle):\n",
        "  angle_plus_pi = -angle + np.pi\n",
        "  angle_plus_pi_modulo = angle_plus_pi % (2*np.pi)\n",
        "\n",
        "  return -(angle_plus_pi_modulo - np.pi)"
      ],
      "execution_count": 2,
      "outputs": [
        {
          "output_type": "stream",
          "text": [
            "Overwriting anglesutils.py\n"
          ],
          "name": "stdout"
        }
      ]
    },
    {
      "cell_type": "code",
      "metadata": {
        "id": "0I-iiZz3P1HD"
      },
      "source": [
        "import anglesutils as au\n",
        "import numpy as np\n",
        "import matplotlib.pyplot as plt"
      ],
      "execution_count": 3,
      "outputs": []
    },
    {
      "cell_type": "code",
      "metadata": {
        "id": "GscogjstQSw2"
      },
      "source": [
        "def position(t):\n",
        "\n",
        "\n",
        "  return 45+t**2\n",
        "\n"
      ],
      "execution_count": 4,
      "outputs": []
    },
    {
      "cell_type": "code",
      "metadata": {
        "id": "YLKkqbV1ROuM"
      },
      "source": [
        "t=np.linspace(0,30)\n",
        "x=position(t)"
      ],
      "execution_count": 5,
      "outputs": []
    },
    {
      "cell_type": "code",
      "metadata": {
        "id": "CVXgvo2IRlZs",
        "outputId": "98a2eb7c-f9fa-4458-e180-f09837d0d72d",
        "colab": {
          "base_uri": "https://localhost:8080/",
          "height": 279
        }
      },
      "source": [
        "plt.plot(t,au.recenter(au.convert(x)));\n",
        "plt.xlabel('time [s]')\n",
        "plt.ylabel('position [rad]');"
      ],
      "execution_count": 6,
      "outputs": [
        {
          "output_type": "display_data",
          "data": {
            "image/png": "[encoded data removed]",
            "text/plain": [
              "<Figure size 432x288 with 1 Axes>"
            ]
          },
          "metadata": {
            "tags": [],
            "needs_background": "light"
          }
        }
      ]
    }
  ]
}